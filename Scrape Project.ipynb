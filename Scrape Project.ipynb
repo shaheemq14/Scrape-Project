{
 "cells": [
  {
   "cell_type": "code",
   "execution_count": 1,
   "id": "bd9cd591-7656-413d-a3fa-028769510cfc",
   "metadata": {},
   "outputs": [],
   "source": [
    "import requests\n",
    "from bs4 import BeautifulSoup as bs\n",
    "import pandas as pd\n",
    "import time"
   ]
  },
  {
   "cell_type": "code",
   "execution_count": 2,
   "id": "7d4dbba7-5858-4f71-8a79-62c8cbc4f388",
   "metadata": {},
   "outputs": [],
   "source": [
    "url=\"https://books.toscrape.com/\"\n",
    "request=requests.get(url)\n",
    "content=bs(request.content, 'html.parser')"
   ]
  },
  {
   "cell_type": "code",
   "execution_count": 3,
   "id": "6ca3e883-1298-400d-952e-8293249a8cae",
   "metadata": {},
   "outputs": [],
   "source": [
    "#For a link:"
   ]
  },
  {
   "cell_type": "code",
   "execution_count": 4,
   "id": "bb3858a6-8351-4942-aa69-188642420e11",
   "metadata": {},
   "outputs": [
    {
     "data": {
      "text/plain": [
       "'catalogue/a-light-in-the-attic_1000/index.html'"
      ]
     },
     "execution_count": 4,
     "metadata": {},
     "output_type": "execute_result"
    }
   ],
   "source": [
    "data=content.findAll('h3')\n",
    "link=data[0].a['href']\n",
    "link"
   ]
  },
  {
   "cell_type": "code",
   "execution_count": 5,
   "id": "cf3f8a5b-8d14-4d85-a4ed-f55cbe5dc434",
   "metadata": {},
   "outputs": [
    {
     "name": "stdout",
     "output_type": "stream",
     "text": [
      "https://books.toscrape.com/catalogue/a-light-in-the-attic_1000/index.html\n",
      "https://books.toscrape.com/catalogue/tipping-the-velvet_999/index.html\n",
      "https://books.toscrape.com/catalogue/soumission_998/index.html\n",
      "https://books.toscrape.com/catalogue/sharp-objects_997/index.html\n",
      "https://books.toscrape.com/catalogue/sapiens-a-brief-history-of-humankind_996/index.html\n",
      "https://books.toscrape.com/catalogue/the-requiem-red_995/index.html\n",
      "https://books.toscrape.com/catalogue/the-dirty-little-secrets-of-getting-your-dream-job_994/index.html\n",
      "https://books.toscrape.com/catalogue/the-coming-woman-a-novel-based-on-the-life-of-the-infamous-feminist-victoria-woodhull_993/index.html\n",
      "https://books.toscrape.com/catalogue/the-boys-in-the-boat-nine-americans-and-their-epic-quest-for-gold-at-the-1936-berlin-olympics_992/index.html\n",
      "https://books.toscrape.com/catalogue/the-black-maria_991/index.html\n",
      "https://books.toscrape.com/catalogue/starving-hearts-triangular-trade-trilogy-1_990/index.html\n",
      "https://books.toscrape.com/catalogue/shakespeares-sonnets_989/index.html\n",
      "https://books.toscrape.com/catalogue/set-me-free_988/index.html\n",
      "https://books.toscrape.com/catalogue/scott-pilgrims-precious-little-life-scott-pilgrim-1_987/index.html\n",
      "https://books.toscrape.com/catalogue/rip-it-up-and-start-again_986/index.html\n",
      "https://books.toscrape.com/catalogue/our-band-could-be-your-life-scenes-from-the-american-indie-underground-1981-1991_985/index.html\n",
      "https://books.toscrape.com/catalogue/olio_984/index.html\n",
      "https://books.toscrape.com/catalogue/mesaerion-the-best-science-fiction-stories-1800-1849_983/index.html\n",
      "https://books.toscrape.com/catalogue/libertarianism-for-beginners_982/index.html\n",
      "https://books.toscrape.com/catalogue/its-only-the-himalayas_981/index.html\n"
     ]
    }
   ],
   "source": [
    "#for all the links:\n",
    "for i in data:\n",
    "    links=url+i.a['href']\n",
    "    print(links)"
   ]
  },
  {
   "cell_type": "code",
   "execution_count": 6,
   "id": "6aa6b7fd-2a5e-4d69-a888-d26f1ac10458",
   "metadata": {},
   "outputs": [],
   "source": [
    "#for title of a link:"
   ]
  },
  {
   "cell_type": "code",
   "execution_count": 7,
   "id": "459dd5b4-2117-489d-9055-c8773dbcc241",
   "metadata": {},
   "outputs": [
    {
     "data": {
      "text/plain": [
       "\"It's Only the Himalayas\""
      ]
     },
     "execution_count": 7,
     "metadata": {},
     "output_type": "execute_result"
    }
   ],
   "source": [
    "content1=requests.get(links).content\n",
    "title4=bs(content1,'html.parser')\n",
    "title3=title4.findAll('h1')\n",
    "title=title3[0].text\n",
    "title"
   ]
  },
  {
   "cell_type": "code",
   "execution_count": 8,
   "id": "078589de-e8f0-4ab0-b280-fd000531693e",
   "metadata": {},
   "outputs": [],
   "source": [
    "#for price of a book:"
   ]
  },
  {
   "cell_type": "code",
   "execution_count": 9,
   "id": "e962030a-b9a0-4449-bd7b-f5844265a224",
   "metadata": {},
   "outputs": [
    {
     "data": {
      "text/plain": [
       "'£45.17'"
      ]
     },
     "execution_count": 9,
     "metadata": {},
     "output_type": "execute_result"
    }
   ],
   "source": [
    "price4=bs(content1,'html.parser')\n",
    "price3=price4.find('p',class_=\"price_color\")\n",
    "price=price3.text\n",
    "price"
   ]
  },
  {
   "cell_type": "code",
   "execution_count": 10,
   "id": "8b984e38-e211-4267-be60-1b201332752c",
   "metadata": {},
   "outputs": [],
   "source": [
    "#for rating:"
   ]
  },
  {
   "cell_type": "code",
   "execution_count": 11,
   "id": "d745c06a-9a17-496c-9ab9-7bd1dccff1a4",
   "metadata": {},
   "outputs": [
    {
     "data": {
      "text/plain": [
       "'Two'"
      ]
     },
     "execution_count": 11,
     "metadata": {},
     "output_type": "execute_result"
    }
   ],
   "source": [
    "rating4=bs(content1,'html.parser')\n",
    "rating3=rating4.findAll('p', {'class':'star-rating'})\n",
    "rating3[0]['class'][1]"
   ]
  },
  {
   "cell_type": "code",
   "execution_count": 12,
   "id": "645f1818-4f03-44c4-ad59-dfa7c37700e5",
   "metadata": {},
   "outputs": [
    {
     "data": {
      "text/plain": [
       "'In stock (19 available)'"
      ]
     },
     "execution_count": 12,
     "metadata": {},
     "output_type": "execute_result"
    }
   ],
   "source": [
    "#for availability\n",
    "availability4=bs(content1,'html.parser')\n",
    "availability3=availability4.find('p',class_=\"instock availability\")\n",
    "availability=availability3.text.strip()\n",
    "availability"
   ]
  },
  {
   "cell_type": "code",
   "execution_count": 13,
   "id": "71fc0687-1d0d-4c9d-8aca-c5b6d89ff21e",
   "metadata": {},
   "outputs": [],
   "source": [
    "#For all the books"
   ]
  },
  {
   "cell_type": "code",
   "execution_count": 14,
   "id": "e85763a7-8d5e-4075-8a64-31eed86fb03f",
   "metadata": {},
   "outputs": [
    {
     "name": "stdout",
     "output_type": "stream",
     "text": [
      "title:A Light in the Attic\n",
      "price:£51.77\n",
      "rating:Three\n",
      "availability:In stock (22 available)\n",
      "-------------------------------------\n",
      "title:Tipping the Velvet\n",
      "price:£53.74\n",
      "rating:One\n",
      "availability:In stock (20 available)\n",
      "-------------------------------------\n",
      "title:Soumission\n",
      "price:£50.10\n",
      "rating:One\n",
      "availability:In stock (20 available)\n",
      "-------------------------------------\n",
      "title:Sharp Objects\n",
      "price:£47.82\n",
      "rating:Four\n",
      "availability:In stock (20 available)\n",
      "-------------------------------------\n",
      "title:Sapiens: A Brief History of Humankind\n",
      "price:£54.23\n",
      "rating:Five\n",
      "availability:In stock (20 available)\n",
      "-------------------------------------\n",
      "title:The Requiem Red\n",
      "price:£22.65\n",
      "rating:One\n",
      "availability:In stock (19 available)\n",
      "-------------------------------------\n",
      "title:The Dirty Little Secrets of Getting Your Dream Job\n",
      "price:£33.34\n",
      "rating:Four\n",
      "availability:In stock (19 available)\n",
      "-------------------------------------\n",
      "title:The Coming Woman: A Novel Based on the Life of the Infamous Feminist, Victoria Woodhull\n",
      "price:£17.93\n",
      "rating:Three\n",
      "availability:In stock (19 available)\n",
      "-------------------------------------\n",
      "title:The Boys in the Boat: Nine Americans and Their Epic Quest for Gold at the 1936 Berlin Olympics\n",
      "price:£22.60\n",
      "rating:Four\n",
      "availability:In stock (19 available)\n",
      "-------------------------------------\n",
      "title:The Black Maria\n",
      "price:£52.15\n",
      "rating:One\n",
      "availability:In stock (19 available)\n",
      "-------------------------------------\n",
      "title:Starving Hearts (Triangular Trade Trilogy, #1)\n",
      "price:£13.99\n",
      "rating:Two\n",
      "availability:In stock (19 available)\n",
      "-------------------------------------\n",
      "title:Shakespeare's Sonnets\n",
      "price:£20.66\n",
      "rating:Four\n",
      "availability:In stock (19 available)\n",
      "-------------------------------------\n",
      "title:Set Me Free\n",
      "price:£17.46\n",
      "rating:Five\n",
      "availability:In stock (19 available)\n",
      "-------------------------------------\n",
      "title:Scott Pilgrim's Precious Little Life (Scott Pilgrim #1)\n",
      "price:£52.29\n",
      "rating:Five\n",
      "availability:In stock (19 available)\n",
      "-------------------------------------\n",
      "title:Rip it Up and Start Again\n",
      "price:£35.02\n",
      "rating:Five\n",
      "availability:In stock (19 available)\n",
      "-------------------------------------\n",
      "title:Our Band Could Be Your Life: Scenes from the American Indie Underground, 1981-1991\n",
      "price:£57.25\n",
      "rating:Three\n",
      "availability:In stock (19 available)\n",
      "-------------------------------------\n",
      "title:Olio\n",
      "price:£23.88\n",
      "rating:One\n",
      "availability:In stock (19 available)\n",
      "-------------------------------------\n",
      "title:Mesaerion: The Best Science Fiction Stories 1800-1849\n",
      "price:£37.59\n",
      "rating:One\n",
      "availability:In stock (19 available)\n",
      "-------------------------------------\n",
      "title:Libertarianism for Beginners\n",
      "price:£51.33\n",
      "rating:Two\n",
      "availability:In stock (19 available)\n",
      "-------------------------------------\n",
      "title:It's Only the Himalayas\n",
      "price:£45.17\n",
      "rating:Two\n",
      "availability:In stock (19 available)\n",
      "-------------------------------------\n"
     ]
    }
   ],
   "source": [
    "books_data=[]\n",
    "start_time=time.time()\n",
    "for i in data:\n",
    "    links=url+i.a['href']\n",
    "    content1=requests.get(links).content\n",
    "    title=bs(content1,'html.parser').findAll('h1')[0].text\n",
    "    price=bs(content1,'html.parser').find('p',class_=\"price_color\").text\n",
    "    rating=bs(content1,'html.parser').findAll('p', class_='star-rating')[0]['class'][1]\n",
    "    availability=bs(content1,'html.parser').find('p',class_=\"instock availability\").text.strip()\n",
    "    print(f'title:{title}')\n",
    "    print(f'price:{price}')\n",
    "    print(f'rating:{rating}')\n",
    "    print(f'availability:{availability}')\n",
    "    print(\"-------------------------------------\")\n",
    "    end_time=time.time()\n",
    "    total_time=(end_time-start_time)/60\n"
   ]
  },
  {
   "cell_type": "code",
   "execution_count": 15,
   "id": "e8479c01-af61-45a4-845b-0338453522f6",
   "metadata": {},
   "outputs": [],
   "source": [
    "#For all 50 Pages  "
   ]
  },
  {
   "cell_type": "code",
   "execution_count": 16,
   "id": "94c59143-29ec-4f8f-8009-51a6025a3c14",
   "metadata": {},
   "outputs": [
    {
     "data": {
      "text/plain": [
       "14.340917519728343"
      ]
     },
     "execution_count": 16,
     "metadata": {},
     "output_type": "execute_result"
    }
   ],
   "source": [
    "books_data=[]\n",
    "start_time=time.time()\n",
    "books_extracted=0\n",
    "\n",
    "for page_num in range(1,51):\n",
    "    pages_url=f'https://books.toscrape.com/catalogue/page-{page_num}.html'\n",
    "    pages_content2=requests.get(pages_url)\n",
    "    pages_content=bs(pages_content2.content,'html.parser')\n",
    "    for i in data:\n",
    "        links=url+i.a['href']\n",
    "        content1=requests.get(links).content\n",
    "        title=bs(content1,'html.parser').findAll('h1')[0].text\n",
    "        price=bs(content1,'html.parser').find('p',class_=\"price_color\").text\n",
    "        rating=bs(content1,'html.parser').findAll('p', class_='star-rating')[0]['class'][1]\n",
    "        availability=bs(content1,'html.parser').find('p',class_=\"instock availability\").text.strip()\n",
    "        books_data.append([title,price,rating,availability])\n",
    "        end_time=time.time()\n",
    "        total_time=(end_time-start_time)/60\n",
    "total_time"
   ]
  },
  {
   "cell_type": "code",
   "execution_count": 17,
   "id": "b0a81f48-3250-459e-85e2-e12fe440af91",
   "metadata": {},
   "outputs": [],
   "source": [
    "#for storing"
   ]
  },
  {
   "cell_type": "code",
   "execution_count": 19,
   "id": "7483314e-76d4-4aa1-af6d-3c4edb2a8572",
   "metadata": {},
   "outputs": [],
   "source": [
    "df=pd.DataFrame(books_data, columns= ('TITLE','PRICE','RATING','AVAILABILITY'))\n",
    "df.to_csv(\"SCRAPPED BOOKS\", index=False)"
   ]
  },
  {
   "cell_type": "code",
   "execution_count": 20,
   "id": "087117c6-cb22-4dca-8e2c-9d401b7efcf9",
   "metadata": {},
   "outputs": [
    {
     "data": {
      "text/html": [
       "<div>\n",
       "<style scoped>\n",
       "    .dataframe tbody tr th:only-of-type {\n",
       "        vertical-align: middle;\n",
       "    }\n",
       "\n",
       "    .dataframe tbody tr th {\n",
       "        vertical-align: top;\n",
       "    }\n",
       "\n",
       "    .dataframe thead th {\n",
       "        text-align: right;\n",
       "    }\n",
       "</style>\n",
       "<table border=\"1\" class=\"dataframe\">\n",
       "  <thead>\n",
       "    <tr style=\"text-align: right;\">\n",
       "      <th></th>\n",
       "      <th>TITLE</th>\n",
       "      <th>PRICE</th>\n",
       "      <th>RATING</th>\n",
       "      <th>AVAILABILITY</th>\n",
       "    </tr>\n",
       "  </thead>\n",
       "  <tbody>\n",
       "    <tr>\n",
       "      <th>0</th>\n",
       "      <td>A Light in the Attic</td>\n",
       "      <td>£51.77</td>\n",
       "      <td>Three</td>\n",
       "      <td>In stock (22 available)</td>\n",
       "    </tr>\n",
       "    <tr>\n",
       "      <th>1</th>\n",
       "      <td>Tipping the Velvet</td>\n",
       "      <td>£53.74</td>\n",
       "      <td>One</td>\n",
       "      <td>In stock (20 available)</td>\n",
       "    </tr>\n",
       "    <tr>\n",
       "      <th>2</th>\n",
       "      <td>Soumission</td>\n",
       "      <td>£50.10</td>\n",
       "      <td>One</td>\n",
       "      <td>In stock (20 available)</td>\n",
       "    </tr>\n",
       "    <tr>\n",
       "      <th>3</th>\n",
       "      <td>Sharp Objects</td>\n",
       "      <td>£47.82</td>\n",
       "      <td>Four</td>\n",
       "      <td>In stock (20 available)</td>\n",
       "    </tr>\n",
       "    <tr>\n",
       "      <th>4</th>\n",
       "      <td>Sapiens: A Brief History of Humankind</td>\n",
       "      <td>£54.23</td>\n",
       "      <td>Five</td>\n",
       "      <td>In stock (20 available)</td>\n",
       "    </tr>\n",
       "    <tr>\n",
       "      <th>...</th>\n",
       "      <td>...</td>\n",
       "      <td>...</td>\n",
       "      <td>...</td>\n",
       "      <td>...</td>\n",
       "    </tr>\n",
       "    <tr>\n",
       "      <th>995</th>\n",
       "      <td>Our Band Could Be Your Life: Scenes from the A...</td>\n",
       "      <td>£57.25</td>\n",
       "      <td>Three</td>\n",
       "      <td>In stock (19 available)</td>\n",
       "    </tr>\n",
       "    <tr>\n",
       "      <th>996</th>\n",
       "      <td>Olio</td>\n",
       "      <td>£23.88</td>\n",
       "      <td>One</td>\n",
       "      <td>In stock (19 available)</td>\n",
       "    </tr>\n",
       "    <tr>\n",
       "      <th>997</th>\n",
       "      <td>Mesaerion: The Best Science Fiction Stories 18...</td>\n",
       "      <td>£37.59</td>\n",
       "      <td>One</td>\n",
       "      <td>In stock (19 available)</td>\n",
       "    </tr>\n",
       "    <tr>\n",
       "      <th>998</th>\n",
       "      <td>Libertarianism for Beginners</td>\n",
       "      <td>£51.33</td>\n",
       "      <td>Two</td>\n",
       "      <td>In stock (19 available)</td>\n",
       "    </tr>\n",
       "    <tr>\n",
       "      <th>999</th>\n",
       "      <td>It's Only the Himalayas</td>\n",
       "      <td>£45.17</td>\n",
       "      <td>Two</td>\n",
       "      <td>In stock (19 available)</td>\n",
       "    </tr>\n",
       "  </tbody>\n",
       "</table>\n",
       "<p>1000 rows × 4 columns</p>\n",
       "</div>"
      ],
      "text/plain": [
       "                                                 TITLE   PRICE RATING  \\\n",
       "0                                 A Light in the Attic  £51.77  Three   \n",
       "1                                   Tipping the Velvet  £53.74    One   \n",
       "2                                           Soumission  £50.10    One   \n",
       "3                                        Sharp Objects  £47.82   Four   \n",
       "4                Sapiens: A Brief History of Humankind  £54.23   Five   \n",
       "..                                                 ...     ...    ...   \n",
       "995  Our Band Could Be Your Life: Scenes from the A...  £57.25  Three   \n",
       "996                                               Olio  £23.88    One   \n",
       "997  Mesaerion: The Best Science Fiction Stories 18...  £37.59    One   \n",
       "998                       Libertarianism for Beginners  £51.33    Two   \n",
       "999                            It's Only the Himalayas  £45.17    Two   \n",
       "\n",
       "                AVAILABILITY  \n",
       "0    In stock (22 available)  \n",
       "1    In stock (20 available)  \n",
       "2    In stock (20 available)  \n",
       "3    In stock (20 available)  \n",
       "4    In stock (20 available)  \n",
       "..                       ...  \n",
       "995  In stock (19 available)  \n",
       "996  In stock (19 available)  \n",
       "997  In stock (19 available)  \n",
       "998  In stock (19 available)  \n",
       "999  In stock (19 available)  \n",
       "\n",
       "[1000 rows x 4 columns]"
      ]
     },
     "execution_count": 20,
     "metadata": {},
     "output_type": "execute_result"
    }
   ],
   "source": [
    "df"
   ]
  },
  {
   "cell_type": "code",
   "execution_count": null,
   "id": "cb77605d-716f-410e-975f-80f303e72518",
   "metadata": {},
   "outputs": [],
   "source": []
  }
 ],
 "metadata": {
  "kernelspec": {
   "display_name": "Python 3 (ipykernel)",
   "language": "python",
   "name": "python3"
  },
  "language_info": {
   "codemirror_mode": {
    "name": "ipython",
    "version": 3
   },
   "file_extension": ".py",
   "mimetype": "text/x-python",
   "name": "python",
   "nbconvert_exporter": "python",
   "pygments_lexer": "ipython3",
   "version": "3.10.8"
  }
 },
 "nbformat": 4,
 "nbformat_minor": 5
}
